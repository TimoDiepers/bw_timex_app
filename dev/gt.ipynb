{
 "cells": [
  {
   "cell_type": "code",
   "execution_count": 74,
   "metadata": {},
   "outputs": [],
   "source": [
    "from bw_graph_tools.graph_traversal import Edge as GraphEdge\n",
    "from bw_graph_tools.graph_traversal import NewNodeEachVisitGraphTraversal\n",
    "from bw_graph_tools.graph_traversal import Node as GraphNode"
   ]
  },
  {
   "cell_type": "code",
   "execution_count": 75,
   "metadata": {},
   "outputs": [],
   "source": [
    "import json\n",
    "from copy import deepcopy\n",
    "from abc import abstractmethod\n",
    "\n",
    "def identify_activity_type(activity):\n",
    "    \"\"\"Return the activity type based on its naming.\"\"\"\n",
    "    name = activity[\"name\"]\n",
    "    if \"treatment of\" in name:\n",
    "        return \"treatment\"\n",
    "    elif \"market for\" in name:\n",
    "        # if not \"to generic\" in name:  # these are not markets, but also transferring activities\n",
    "        return \"market\"\n",
    "    elif \"market group\" in name:\n",
    "        # if not \"to generic\" in name:\n",
    "        return \"marketgroup\"\n",
    "    else:\n",
    "        return \"production\"\n",
    "    \n",
    "class BaseGraph(object):\n",
    "    def __init__(self):\n",
    "        self.json_data = None\n",
    "        # stores previous graphs, if any, and enables back/forward buttons\n",
    "        self.stack = []\n",
    "        # stores graphs that can be returned to after having used the \"back\" button\n",
    "        self.forward_stack = []\n",
    "\n",
    "    def update(self, delete_unstacked: bool = True) -> None:\n",
    "        self.store_previous()\n",
    "        if delete_unstacked:\n",
    "            self.forward_stack = []\n",
    "\n",
    "    def forward(self) -> bool:\n",
    "        \"\"\"Go forward, if previously gone back.\"\"\"\n",
    "        if not self.forward_stack:\n",
    "            return False\n",
    "        self.retrieve_future()\n",
    "        self.update(delete_unstacked=False)\n",
    "        return True\n",
    "\n",
    "    def back(self) -> bool:\n",
    "        \"\"\"Go back to previous graph, if any.\"\"\"\n",
    "        if len(self.stack) <= 1:\n",
    "            return False\n",
    "        self.store_future()\n",
    "        self.update(delete_unstacked=False)\n",
    "        return True\n",
    "\n",
    "    def store_previous(self) -> None:\n",
    "        \"\"\"Store the current graph in the\"\"\"\n",
    "        self.stack.append((deepcopy(self.json_data)))\n",
    "\n",
    "    def store_future(self) -> None:\n",
    "        \"\"\"When going back, store current data in a queue.\"\"\"\n",
    "        self.forward_stack.append(self.stack.pop())\n",
    "        self.json_data = self.stack.pop()\n",
    "\n",
    "    def retrieve_future(self) -> None:\n",
    "        \"\"\"Extract the last graph from the queue.\"\"\"\n",
    "        self.json_data = self.forward_stack.pop()\n",
    "\n",
    "    @abstractmethod\n",
    "    def new_graph(self, *args, **kwargs) -> None:\n",
    "        pass\n",
    "\n",
    "    def save_json_to_file(self, filename: str = \"graph_data.json\") -> None:\n",
    "        \"\"\"Writes the current model´s JSON representation to the specifies file.\"\"\"\n",
    "        if self.json_data:\n",
    "            filepath = os.path.join(os.path.dirname(__file__), filename)\n",
    "            with open(filepath, \"w\") as outfile:\n",
    "                json.dump(self.json_data, outfile)\n",
    "                \n",
    "class Graph(BaseGraph):\n",
    "    \"\"\"\n",
    "    Python side representation of the graph.\n",
    "    Functionality for graph navigation (e.g. adding and removing nodes).\n",
    "    A JSON representation of the graph (edges and nodes) enables its use in javascript/html/css.\n",
    "    \"\"\"\n",
    "\n",
    "    def new_graph(self, data):\n",
    "        self.json_data = Graph.get_json_data(data)\n",
    "        self.update()\n",
    "\n",
    "    @staticmethod\n",
    "    def get_json_data(data) -> str:\n",
    "        \"\"\"Transform graph traversal output to JSON data.\n",
    "\n",
    "        We use the [dagre](https://github.com/dagrejs/dagre) javascript library for rendering directed graphs. We need to provide the following:\n",
    "\n",
    "        ```python\n",
    "        {\n",
    "            'max_impact': float,  # Total LCA score,\n",
    "            'title': str,  # Graph title\n",
    "            'edges': [{\n",
    "                'source_id': int,  # Unique ID of producer of material or energy in graph\n",
    "                'target_id': int,  # Unique ID of consumer of material or energy in graph\n",
    "                'weight': float,  #  In graph units, relative to `max_edge_width`\n",
    "                'label': str,  # HTML label\n",
    "                'product': str,  # The label of the flowing material or energy\n",
    "                'class': str,  # \"benefit\" or \"impact\"; controls styling\n",
    "                'label': str,  # HTML label\n",
    "                'toottip': str,  # HTML tooltip\n",
    "            }],\n",
    "            'nodes': [{\n",
    "                'direct_emissions_score_normalized': float,  # Fraction of total LCA score from direct emissions\n",
    "                'product': str,  # Reference product label, if any\n",
    "                'location': str,  # Location, if any\n",
    "                'id': int,  # Graph traversal ID\n",
    "                'database_id': int,  # Node ID in SQLite database\n",
    "                'database': str,  # Database name\n",
    "                'class': str,  # Enumerated set of class label strings\n",
    "                'label': str,  # HTML label including name and location\n",
    "                'toottip': str,  # HTML tooltip\n",
    "            }],\n",
    "        }\n",
    "\n",
    "        ```\n",
    "\n",
    "        \"\"\"\n",
    "        lca_score = data[\"metadata\"][\"lca\"].score\n",
    "        lcia_unit = data[\"metadata\"][\"unit\"]\n",
    "        demand = data[\"metadata\"][\"lca\"].demand\n",
    "\n",
    "        def convert_edge_to_json(\n",
    "            edge: GraphEdge,\n",
    "            nodes: dict[int, GraphNode],\n",
    "            total_score: float,\n",
    "            lcia_unit: str,\n",
    "            max_edge_width: int = 40,\n",
    "        ) -> dict:\n",
    "            cum_score = nodes[edge.producer_unique_id].cumulative_score\n",
    "            unit = bd.get_node(\n",
    "                id=nodes[edge.producer_unique_id].reference_product_datapackage_id\n",
    "            ).get(\"unit\", \"(unknown)\")\n",
    "            return {\n",
    "                \"source_id\": edge.producer_unique_id,\n",
    "                \"target_id\": edge.consumer_unique_id,\n",
    "                \"amount\": edge.amount,\n",
    "                \"weight\": abs(cum_score / total_score) * max_edge_width,\n",
    "                \"label\": f\"{round(cum_score, 3)} {lcia_unit}\",\n",
    "                \"class\": \"benefit\" if cum_score < 0 else \"impact\",\n",
    "                \"tooltip\": f\"<b>{round(cum_score, 3)} {lcia_unit}</b> ({edge.amount:.2g} {unit})\",\n",
    "            }\n",
    "\n",
    "        def convert_node_to_json(\n",
    "            graph_node: GraphNode,\n",
    "            total_score: float,\n",
    "            fu: dict,\n",
    "            lcia_unit: str,\n",
    "            max_name_length: int = 20,\n",
    "        ) -> dict:\n",
    "            db_node = bd.get_node(id=graph_node.activity_datapackage_id)\n",
    "            data = {\n",
    "                \"direct_emissions_score_normalized\": graph_node.direct_emissions_score\n",
    "                / (total_score or 1),\n",
    "                \"direct_emissions_score\": graph_node.direct_emissions_score,\n",
    "                \"cumulative_score\": graph_node.cumulative_score,\n",
    "                \"cumulative_score_normalized\": graph_node.cumulative_score\n",
    "                / (total_score or 1),\n",
    "                \"product\": db_node.get(\"reference product\", \"\"),\n",
    "                \"location\": db_node.get(\"location\", \"(unknown)\"),\n",
    "                \"id\": graph_node.unique_id,\n",
    "                \"database_id\": graph_node.activity_datapackage_id,\n",
    "                \"database\": db_node[\"database\"],\n",
    "                \"class\": (\n",
    "                    \"demand\"\n",
    "                    if graph_node.activity_datapackage_id in fu\n",
    "                    else identify_activity_type(db_node)\n",
    "                ),\n",
    "                \"name\": db_node.get(\"name\", \"(unnamed)\"),\n",
    "            }\n",
    "            frac_dir_score = round(data[\"direct_emissions_score_normalized\"] * 100, 2)\n",
    "            dir_score = round(data[\"direct_emissions_score\"], 3)\n",
    "            frac_cum_score = round(data[\"cumulative_score_normalized\"] * 100, 2)\n",
    "            cum_score = round(data[\"cumulative_score\"], 3)\n",
    "            data[\n",
    "                \"label\"\n",
    "            ] = f\"\"\"{db_node['name'][:max_name_length]}\n",
    "{data['location']}\n",
    "{frac_dir_score}%\"\"\"\n",
    "            data[\n",
    "                \"tooltip\"\n",
    "            ] = f\"\"\"\n",
    "                <b>{data['name']}</b>\n",
    "                <br>Individual impact: {dir_score} {lcia_unit} ({frac_dir_score }%)\n",
    "                <br>Cumulative impact: {cum_score} {lcia_unit} ({frac_cum_score}%)\n",
    "            \"\"\"\n",
    "            return data\n",
    "\n",
    "        json_data = {\n",
    "            \"nodes\": [\n",
    "                convert_node_to_json(node, lca_score, demand, lcia_unit)\n",
    "                for idx, node in data[\"nodes\"].items()\n",
    "                if idx != -1\n",
    "            ],\n",
    "            \"edges\": [\n",
    "                convert_edge_to_json(edge, data[\"nodes\"], lca_score, lcia_unit)\n",
    "                for edge in data[\"edges\"]\n",
    "                if edge.producer_index != -1 and edge.consumer_index != -1\n",
    "            ],\n",
    "            \"title\": \"Sankey graph result\",\n",
    "            # \"title\": self.build_title(demand, lca_score, lcia_unit),\n",
    "        }\n",
    "\n",
    "        return json.dumps(json_data)\n",
    "\n",
    "    def build_title(self, demand: tuple, lca_score: float, lcia_unit: str) -> str:\n",
    "        act, amount = demand[0], demand[1]\n",
    "        if type(act) is tuple or type(act) is int:\n",
    "            act = bd.get_activity(act)\n",
    "        format_str = (\n",
    "            \"Reference flow: {:.2g} {} {} | {} | {} <br>\" \"Total impact: {:.2g} {}\"\n",
    "        )\n",
    "        return format_str.format(\n",
    "            amount,\n",
    "            act.get(\"unit\"),\n",
    "            act.get(\"reference product\") or act.get(\"name\"),\n",
    "            act.get(\"name\"),\n",
    "            act.get(\"location\"),\n",
    "            lca_score,\n",
    "            lcia_unit,\n",
    "        )"
   ]
  },
  {
   "cell_type": "code",
   "execution_count": 76,
   "metadata": {},
   "outputs": [],
   "source": [
    "import bw2data as bd\n",
    "\n",
    "bd.projects.set_current(\"timex\")\n"
   ]
  },
  {
   "cell_type": "code",
   "execution_count": 77,
   "metadata": {},
   "outputs": [
    {
     "data": {
      "text/plain": [
       "Databases dictionary with 6 object(s):\n",
       "\tecoinvent-3.10-biosphere\n",
       "\tecoinvent-3.10-cutoff\n",
       "\tei310_IMAGE_SSP2_RCP19_2020_electricity\n",
       "\tei310_IMAGE_SSP2_RCP19_2030_electricity\n",
       "\tei310_IMAGE_SSP2_RCP19_2040_electricity\n",
       "\tforeground"
      ]
     },
     "execution_count": 77,
     "metadata": {},
     "output_type": "execute_result"
    }
   ],
   "source": [
    "bd.databases"
   ]
  },
  {
   "cell_type": "code",
   "execution_count": 90,
   "metadata": {},
   "outputs": [],
   "source": [
    "import bw2calc as bc\n",
    "\n",
    "\n",
    "lca = bc.LCA(demand={bd.Database(\"ecoinvent-3.10-cutoff\").random(): 1}, method=bd.methods.random())\n",
    "lca.lci(factorize=True)\n",
    "lca.lcia()"
   ]
  },
  {
   "cell_type": "code",
   "execution_count": 91,
   "metadata": {},
   "outputs": [
    {
     "name": "stderr",
     "output_type": "stream",
     "text": [
      "/var/folders/l1/k90rhb0j0ns58y35ymznsd700000gn/T/ipykernel_76527/3031763972.py:1: DeprecationWarning: Use `NewNodeEachVisitGraphTraversal(lca, settings)` instead of `NNEVGT().calculate(stuff)`\n",
      "  data = NewNodeEachVisitGraphTraversal.calculate(\n"
     ]
    }
   ],
   "source": [
    "data = NewNodeEachVisitGraphTraversal.calculate(\n",
    "                    lca_object=lca, max_depth=2,\n",
    "                )"
   ]
  },
  {
   "cell_type": "code",
   "execution_count": 92,
   "metadata": {},
   "outputs": [],
   "source": [
    "# from bw_graph_tools.graph_traversal.settings import GraphTraversalSettings\n",
    "\n",
    "# gt = NewNodeEachVisitGraphTraversal(lca, GraphTraversalSettings())\n",
    "# gt.traverse()\n",
    "# gt.nodes"
   ]
  },
  {
   "cell_type": "code",
   "execution_count": 93,
   "metadata": {},
   "outputs": [],
   "source": [
    "# store the metadata from this calculation\n",
    "data[\"metadata\"] = {\n",
    "    \"lca\": lca,\n",
    "    \"unit\": \"kg CO2-eq\",\n",
    "}"
   ]
  },
  {
   "cell_type": "code",
   "execution_count": 94,
   "metadata": {},
   "outputs": [],
   "source": [
    "g = Graph()\n",
    "g.new_graph(data)"
   ]
  },
  {
   "cell_type": "code",
   "execution_count": 100,
   "metadata": {},
   "outputs": [],
   "source": [
    "res = json.loads(g.json_data)"
   ]
  },
  {
   "cell_type": "code",
   "execution_count": 104,
   "metadata": {},
   "outputs": [],
   "source": [
    "id_to_database_id = {}\n",
    "for node in res['nodes']:\n",
    "    id_to_database_id[node['id']] = node['database_id']"
   ]
  },
  {
   "cell_type": "code",
   "execution_count": 105,
   "metadata": {},
   "outputs": [
    {
     "data": {
      "text/plain": [
       "{0: 20930, 1: 12450, 2: 23728}"
      ]
     },
     "execution_count": 105,
     "metadata": {},
     "output_type": "execute_result"
    }
   ],
   "source": [
    "id_to_database_id"
   ]
  },
  {
   "cell_type": "code",
   "execution_count": 120,
   "metadata": {},
   "outputs": [
    {
     "data": {
      "text/plain": [
       "[{'direct_emissions_score_normalized': 0.0,\n",
       "  'direct_emissions_score': 0.0,\n",
       "  'cumulative_score': 0.004121816381659224,\n",
       "  'cumulative_score_normalized': 1.0000000000000004,\n",
       "  'product': 'electricity, medium voltage',\n",
       "  'location': 'US-HICC',\n",
       "  'id': 0,\n",
       "  'database_id': 20930,\n",
       "  'database': 'ecoinvent-3.10-cutoff',\n",
       "  'class': 'demand',\n",
       "  'name': 'market for electricity, medium voltage',\n",
       "  'label': 'market for electrici\\nUS-HICC\\n0.0%',\n",
       "  'tooltip': '\\n                <b>market for electricity, medium voltage</b>\\n                <br>Individual impact: 0.0 kg CO2-eq (0.0%)\\n                <br>Cumulative impact: 0.004 kg CO2-eq (100.0%)\\n            '},\n",
       " {'direct_emissions_score_normalized': 0.0,\n",
       "  'direct_emissions_score': 0.0,\n",
       "  'cumulative_score': 8.551829659782503e-05,\n",
       "  'cumulative_score_normalized': 0.020747721072281233,\n",
       "  'product': 'transmission network, electricity, medium voltage',\n",
       "  'location': 'GLO',\n",
       "  'id': 1,\n",
       "  'database_id': 12450,\n",
       "  'database': 'ecoinvent-3.10-cutoff',\n",
       "  'class': 'market',\n",
       "  'name': 'market for transmission network, electricity, medium voltage',\n",
       "  'label': 'market for transmiss\\nGLO\\n0.0%',\n",
       "  'tooltip': '\\n                <b>market for transmission network, electricity, medium voltage</b>\\n                <br>Individual impact: 0.0 kg CO2-eq (0.0%)\\n                <br>Cumulative impact: 0.0 kg CO2-eq (2.07%)\\n            '},\n",
       " {'direct_emissions_score_normalized': 0.0,\n",
       "  'direct_emissions_score': 0.0,\n",
       "  'cumulative_score': 0.00401677005385089,\n",
       "  'cumulative_score_normalized': 0.9745145542446396,\n",
       "  'product': 'electricity, medium voltage',\n",
       "  'location': 'US-HICC',\n",
       "  'id': 2,\n",
       "  'database_id': 23728,\n",
       "  'database': 'ecoinvent-3.10-cutoff',\n",
       "  'class': 'production',\n",
       "  'name': 'electricity voltage transformation from high to medium voltage',\n",
       "  'label': 'electricity voltage \\nUS-HICC\\n0.0%',\n",
       "  'tooltip': '\\n                <b>electricity voltage transformation from high to medium voltage</b>\\n                <br>Individual impact: 0.0 kg CO2-eq (0.0%)\\n                <br>Cumulative impact: 0.004 kg CO2-eq (97.45%)\\n            '}]"
      ]
     },
     "execution_count": 120,
     "metadata": {},
     "output_type": "execute_result"
    }
   ],
   "source": [
    "res[\"nodes\"]"
   ]
  },
  {
   "cell_type": "code",
   "execution_count": 122,
   "metadata": {},
   "outputs": [],
   "source": [
    "df_data = {\"source\": [], \"target\": [], \"amount\": []}\n",
    "for edge in res[\"edges\"]:\n",
    "    df_data[\"source\"].append(id_to_database_id[edge[\"source_id\"]])\n",
    "    df_data[\"target\"].append(id_to_database_id[edge[\"target_id\"]])\n",
    "    df_data[\"amount\"].append(edge[\"amount\"])"
   ]
  },
  {
   "cell_type": "code",
   "execution_count": 128,
   "metadata": {},
   "outputs": [
    {
     "data": {
      "text/html": [
       "<div>\n",
       "<style scoped>\n",
       "    .dataframe tbody tr th:only-of-type {\n",
       "        vertical-align: middle;\n",
       "    }\n",
       "\n",
       "    .dataframe tbody tr th {\n",
       "        vertical-align: top;\n",
       "    }\n",
       "\n",
       "    .dataframe thead th {\n",
       "        text-align: right;\n",
       "    }\n",
       "</style>\n",
       "<table border=\"1\" class=\"dataframe\">\n",
       "  <thead>\n",
       "    <tr style=\"text-align: right;\">\n",
       "      <th></th>\n",
       "      <th>source</th>\n",
       "      <th>target</th>\n",
       "      <th>amount</th>\n",
       "    </tr>\n",
       "  </thead>\n",
       "  <tbody>\n",
       "    <tr>\n",
       "      <th>1</th>\n",
       "      <td>23728</td>\n",
       "      <td>20930</td>\n",
       "      <td>9.560936e-01</td>\n",
       "    </tr>\n",
       "    <tr>\n",
       "      <th>0</th>\n",
       "      <td>12450</td>\n",
       "      <td>20930</td>\n",
       "      <td>1.867658e-08</td>\n",
       "    </tr>\n",
       "  </tbody>\n",
       "</table>\n",
       "</div>"
      ],
      "text/plain": [
       "   source  target        amount\n",
       "1   23728   20930  9.560936e-01\n",
       "0   12450   20930  1.867658e-08"
      ]
     },
     "execution_count": 128,
     "metadata": {},
     "output_type": "execute_result"
    }
   ],
   "source": [
    "import pandas as pd\n",
    "df = pd.DataFrame(df_data)\n",
    "df.sort_values(by=\"amount\", ascending=False)"
   ]
  },
  {
   "cell_type": "code",
   "execution_count": null,
   "metadata": {},
   "outputs": [],
   "source": []
  },
  {
   "cell_type": "code",
   "execution_count": 102,
   "metadata": {},
   "outputs": [
    {
     "data": {
      "text/plain": [
       "[{'source_id': 1,\n",
       "  'target_id': 0,\n",
       "  'amount': 1.8676577612333276e-08,\n",
       "  'weight': 0.8299088428912493,\n",
       "  'label': '0.0 kg CO2-eq',\n",
       "  'class': 'impact',\n",
       "  'tooltip': '<b>0.0 kg CO2-eq</b> (1.9e-08 kilometer)'},\n",
       " {'source_id': 2,\n",
       "  'target_id': 0,\n",
       "  'amount': 0.9560936021853338,\n",
       "  'weight': 38.980582169785585,\n",
       "  'label': '0.004 kg CO2-eq',\n",
       "  'class': 'impact',\n",
       "  'tooltip': '<b>0.004 kg CO2-eq</b> (0.96 kilowatt hour)'}]"
      ]
     },
     "execution_count": 102,
     "metadata": {},
     "output_type": "execute_result"
    }
   ],
   "source": [
    "res[\"edges\"]"
   ]
  },
  {
   "cell_type": "code",
   "execution_count": 33,
   "metadata": {},
   "outputs": [],
   "source": []
  },
  {
   "cell_type": "code",
   "execution_count": null,
   "metadata": {},
   "outputs": [],
   "source": []
  }
 ],
 "metadata": {
  "kernelspec": {
   "display_name": "Python 3 (ipykernel)",
   "language": "python",
   "name": "python3"
  },
  "language_info": {
   "codemirror_mode": {
    "name": "ipython",
    "version": 3
   },
   "file_extension": ".py",
   "mimetype": "text/x-python",
   "name": "python",
   "nbconvert_exporter": "python",
   "pygments_lexer": "ipython3",
   "version": "3.10.14"
  }
 },
 "nbformat": 4,
 "nbformat_minor": 4
}
